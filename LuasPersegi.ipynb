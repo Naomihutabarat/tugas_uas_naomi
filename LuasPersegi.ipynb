{
 "cells": [
  {
   "cell_type": "code",
   "execution_count": 5,
   "id": "be2b5f0a",
   "metadata": {},
   "outputs": [
    {
     "name": "stdout",
     "output_type": "stream",
     "text": [
      "Masukkan panjang sisi persegi: 12\n",
      "Luas persegi dengan sisi 12.0 adalah 144.0\n"
     ]
    }
   ],
   "source": [
    "class Persegi:\n",
    "    def __init__(self, sisi):\n",
    "        self.sisi = sisi\n",
    "\n",
    "    def hitung_luas(self):\n",
    "        luas = self.sisi * self.sisi\n",
    "        return luas\n",
    "\n",
    "sisi = float(input(\"Masukkan panjang sisi persegi: \"))\n",
    "persegi = Persegi(sisi)\n",
    "luas = persegi.hitung_luas()\n",
    "print(\"Luas persegi dengan sisi\", sisi, \"adalah\", luas)\n"
   ]
  }
 ],
 "metadata": {
  "kernelspec": {
   "display_name": "Python 3 (ipykernel)",
   "language": "python",
   "name": "python3"
  },
  "language_info": {
   "codemirror_mode": {
    "name": "ipython",
    "version": 3
   },
   "file_extension": ".py",
   "mimetype": "text/x-python",
   "name": "python",
   "nbconvert_exporter": "python",
   "pygments_lexer": "ipython3",
   "version": "3.9.12"
  }
 },
 "nbformat": 4,
 "nbformat_minor": 5
}
