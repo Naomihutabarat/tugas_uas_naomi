{
 "cells": [
  {
   "cell_type": "code",
   "execution_count": 1,
   "id": "a89f6f71",
   "metadata": {},
   "outputs": [
    {
     "name": "stdout",
     "output_type": "stream",
     "text": [
      "Masukkan panjang persegi panjang: 6\n",
      "Masukkan lebar persegi panjang: 9\n",
      "Luas persegi panjang dengan panjang 6.0 dan lebar 9.0 adalah 54.0\n"
     ]
    }
   ],
   "source": [
    "class PersegiPanjang:\n",
    "    def __init__(self, panjang, lebar):\n",
    "        self.panjang = panjang\n",
    "        self.lebar = lebar\n",
    "\n",
    "    def hitung_luas(self):\n",
    "        luas = self.panjang * self.lebar\n",
    "        return luas\n",
    "\n",
    "panjang = float(input(\"Masukkan panjang persegi panjang: \"))\n",
    "lebar = float(input(\"Masukkan lebar persegi panjang: \"))\n",
    "\n",
    "persegi_panjang = PersegiPanjang(panjang, lebar)\n",
    "luas = persegi_panjang.hitung_luas()\n",
    "\n",
    "print(\"Luas persegi panjang dengan panjang\", panjang, \"dan lebar\", lebar, \"adalah\", luas)\n"
   ]
  }
 ],
 "metadata": {
  "kernelspec": {
   "display_name": "Python 3 (ipykernel)",
   "language": "python",
   "name": "python3"
  },
  "language_info": {
   "codemirror_mode": {
    "name": "ipython",
    "version": 3
   },
   "file_extension": ".py",
   "mimetype": "text/x-python",
   "name": "python",
   "nbconvert_exporter": "python",
   "pygments_lexer": "ipython3",
   "version": "3.9.12"
  }
 },
 "nbformat": 4,
 "nbformat_minor": 5
}
