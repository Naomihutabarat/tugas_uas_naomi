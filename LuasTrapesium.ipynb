{
 "cells": [
  {
   "cell_type": "code",
   "execution_count": 1,
   "id": "62c67dab",
   "metadata": {},
   "outputs": [
    {
     "name": "stdout",
     "output_type": "stream",
     "text": [
      "Masukkan panjang alas trapesium: 7\n",
      "Masukkan panjang atas trapesium: 9\n",
      "Masukkan tinggi trapesium: 10\n",
      "Luas trapesium dengan alas 7.0 , atas 9.0 , dan tinggi 10.0 adalah 80.0\n"
     ]
    }
   ],
   "source": [
    "class Trapesium:\n",
    "    def __init__(self, alas, atas, tinggi):\n",
    "        self.alas = alas\n",
    "        self.atas = atas\n",
    "        self.tinggi = tinggi\n",
    "\n",
    "    def hitung_luas(self):\n",
    "        luas = 0.5 * (self.alas + self.atas) * self.tinggi\n",
    "        return luas\n",
    "\n",
    "alas = float(input(\"Masukkan panjang alas trapesium: \"))\n",
    "atas = float(input(\"Masukkan panjang atas trapesium: \"))\n",
    "tinggi = float(input(\"Masukkan tinggi trapesium: \"))\n",
    "\n",
    "if alas > 0 and atas > 0 and tinggi > 0:\n",
    "    trapesium = Trapesium(alas, atas, tinggi)\n",
    "    luas = trapesium.hitung_luas()\n",
    "\n",
    "    print(\"Luas trapesium dengan alas\", alas, \", atas\", atas, \", dan tinggi\", tinggi, \"adalah\", luas)\n",
    "else:\n",
    "    print(\"Masukkan nilai yang valid (nilai harus lebih besar dari 0) untuk alas, atas, dan tinggi trapesium.\")\n"
   ]
  }
 ],
 "metadata": {
  "kernelspec": {
   "display_name": "Python 3 (ipykernel)",
   "language": "python",
   "name": "python3"
  },
  "language_info": {
   "codemirror_mode": {
    "name": "ipython",
    "version": 3
   },
   "file_extension": ".py",
   "mimetype": "text/x-python",
   "name": "python",
   "nbconvert_exporter": "python",
   "pygments_lexer": "ipython3",
   "version": "3.9.12"
  }
 },
 "nbformat": 4,
 "nbformat_minor": 5
}
