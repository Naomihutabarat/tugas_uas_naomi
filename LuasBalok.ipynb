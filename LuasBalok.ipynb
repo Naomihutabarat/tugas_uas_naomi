{
 "cells": [
  {
   "cell_type": "code",
   "execution_count": 1,
   "id": "c6c5f3e0",
   "metadata": {},
   "outputs": [
    {
     "name": "stdout",
     "output_type": "stream",
     "text": [
      "Masukkan panjang balok: 6\n",
      "Masukkan lebar balok: 10\n",
      "Masukkan tinggi balok: 8\n",
      "Luas permukaan balok dengan panjang 6.0 , lebar 10.0 , dan tinggi 8.0 adalah 376.0\n"
     ]
    }
   ],
   "source": [
    "class Balok:\n",
    "    def __init__(self, panjang, lebar, tinggi):\n",
    "        self.panjang = panjang\n",
    "        self.lebar = lebar\n",
    "        self.tinggi = tinggi\n",
    "\n",
    "    def hitung_luas(self):\n",
    "        luas_permukaan = 2 * (self.panjang * self.lebar + self.panjang * self.tinggi + self.lebar * self.tinggi)\n",
    "        return luas_permukaan\n",
    "\n",
    "panjang = float(input(\"Masukkan panjang balok: \"))\n",
    "lebar = float(input(\"Masukkan lebar balok: \"))\n",
    "tinggi = float(input(\"Masukkan tinggi balok: \"))\n",
    "\n",
    "if panjang > 0 and lebar > 0 and tinggi > 0:\n",
    "    balok = Balok(panjang, lebar, tinggi)\n",
    "    luas_permukaan = balok.hitung_luas()\n",
    "\n",
    "    print(\"Luas permukaan balok dengan panjang\", panjang, \", lebar\", lebar, \", dan tinggi\", tinggi, \"adalah\", luas_permukaan)\n",
    "else:\n",
    "    print(\"Masukkan nilai yang valid (nilai harus lebih besar dari 0) untuk panjang, lebar, dan tinggi balok.\")\n"
   ]
  }
 ],
 "metadata": {
  "kernelspec": {
   "display_name": "Python 3 (ipykernel)",
   "language": "python",
   "name": "python3"
  },
  "language_info": {
   "codemirror_mode": {
    "name": "ipython",
    "version": 3
   },
   "file_extension": ".py",
   "mimetype": "text/x-python",
   "name": "python",
   "nbconvert_exporter": "python",
   "pygments_lexer": "ipython3",
   "version": "3.9.12"
  }
 },
 "nbformat": 4,
 "nbformat_minor": 5
}
