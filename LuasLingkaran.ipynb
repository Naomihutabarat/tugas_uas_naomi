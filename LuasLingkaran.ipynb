{
 "cells": [
  {
   "cell_type": "code",
   "execution_count": 1,
   "id": "f52fa1df",
   "metadata": {},
   "outputs": [
    {
     "name": "stdout",
     "output_type": "stream",
     "text": [
      "Masukkan jari-jari lingkaran: 7\n",
      "Luas lingkaran dengan jari-jari 7.0 adalah 153.93804002589985\n"
     ]
    }
   ],
   "source": [
    "import math\n",
    "\n",
    "class Lingkaran:\n",
    "    def __init__(self, jari_jari):\n",
    "        self.jari_jari = jari_jari\n",
    "\n",
    "    def hitung_luas(self):\n",
    "        luas = math.pi * self.jari_jari ** 2\n",
    "        return luas\n",
    "\n",
    "jari_jari = float(input(\"Masukkan jari-jari lingkaran: \"))\n",
    "lingkaran = Lingkaran(jari_jari)\n",
    "luas = lingkaran.hitung_luas()\n",
    "print(\"Luas lingkaran dengan jari-jari\", jari_jari, \"adalah\", luas)\n"
   ]
  }
 ],
 "metadata": {
  "kernelspec": {
   "display_name": "Python 3 (ipykernel)",
   "language": "python",
   "name": "python3"
  },
  "language_info": {
   "codemirror_mode": {
    "name": "ipython",
    "version": 3
   },
   "file_extension": ".py",
   "mimetype": "text/x-python",
   "name": "python",
   "nbconvert_exporter": "python",
   "pygments_lexer": "ipython3",
   "version": "3.9.12"
  }
 },
 "nbformat": 4,
 "nbformat_minor": 5
}
