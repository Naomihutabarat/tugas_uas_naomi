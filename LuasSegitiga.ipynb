{
 "cells": [
  {
   "cell_type": "code",
   "execution_count": 1,
   "id": "769c858b",
   "metadata": {},
   "outputs": [
    {
     "name": "stdout",
     "output_type": "stream",
     "text": [
      "Masukkan panjang alas segitiga: 12\n",
      "Masukkan tinggi segitiga: 5\n",
      "Luas segitiga dengan alas 12.0 dan tinggi 5.0 adalah 30.0\n"
     ]
    }
   ],
   "source": [
    "class Segitiga:\n",
    "    def __init__(self, alas, tinggi):\n",
    "        self.alas = alas\n",
    "        self.tinggi = tinggi\n",
    "\n",
    "    def hitung_luas(self):\n",
    "        luas = 0.5 * self.alas * self.tinggi\n",
    "        return luas\n",
    "\n",
    "alas = float(input(\"Masukkan panjang alas segitiga: \"))\n",
    "tinggi = float(input(\"Masukkan tinggi segitiga: \"))\n",
    "\n",
    "segitiga = Segitiga(alas, tinggi)\n",
    "luas = segitiga.hitung_luas()\n",
    "\n",
    "print(\"Luas segitiga dengan alas\", alas, \"dan tinggi\", tinggi, \"adalah\", luas)\n"
   ]
  }
 ],
 "metadata": {
  "kernelspec": {
   "display_name": "Python 3 (ipykernel)",
   "language": "python",
   "name": "python3"
  },
  "language_info": {
   "codemirror_mode": {
    "name": "ipython",
    "version": 3
   },
   "file_extension": ".py",
   "mimetype": "text/x-python",
   "name": "python",
   "nbconvert_exporter": "python",
   "pygments_lexer": "ipython3",
   "version": "3.9.12"
  }
 },
 "nbformat": 4,
 "nbformat_minor": 5
}
